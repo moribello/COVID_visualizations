{
 "cells": [
  {
   "cell_type": "code",
   "execution_count": 1,
   "metadata": {},
   "outputs": [],
   "source": [
    "import numpy as np\n",
    "import pandas as pd"
   ]
  },
  {
   "cell_type": "code",
   "execution_count": 2,
   "metadata": {},
   "outputs": [],
   "source": [
    "def remove_space(df, column, listname):\n",
    "    for i in df.index:\n",
    "        original_value = df.loc[i, column]\n",
    "        df.loc[i, column] = original_value.rstrip()\n",
    "        remove_space2 = str(df.loc[i, column])\n",
    "        df.loc[i, column] = remove_space2.rstrip()\n",
    "\n",
    "    new_filename = listname[:-4]\n",
    "    df.to_csv(new_filename+\"_corrected.csv\", index=False)\n",
    "    print(\"Spaces removed. Changes written to file {}_corrected.csv.\".format(new_filename))"
   ]
  },
  {
   "cell_type": "code",
   "execution_count": 36,
   "metadata": {},
   "outputs": [],
   "source": [
    "def import_list():\n",
    "    while True:\n",
    "        try:\n",
    "#            listname1 = input(\"Please enter the file you wish to remove white spaces from.\")\n",
    "            listname1 = 'states_counties.csv'\n",
    "#            column = input(\"Please enter the column you wish to remove white spaces from\")\n",
    "            column = 'CTYNAME'\n",
    "            list1 = pd.read_csv(listname1, encoding = \"latin-1\")\n",
    "            break\n",
    "        except:\n",
    "            print(listname1)\n",
    "            print(\"That doesn't appear to be a valid file. Please try again.\")\n",
    "            break\n",
    "\n",
    "    return list1, column, listname1"
   ]
  },
  {
   "cell_type": "code",
   "execution_count": 37,
   "metadata": {},
   "outputs": [],
   "source": [
    "def main():\n",
    "        list1, column, listname1 = import_list()\n",
    "        remove_space(list1, column, listname1)"
   ]
  },
  {
   "cell_type": "code",
   "execution_count": 38,
   "metadata": {},
   "outputs": [
    {
     "name": "stdout",
     "output_type": "stream",
     "text": [
      "      SUMLEV  REGION  DIVISION  STATE  Unnamed: 4   STNAME      CTYNAME  \\\n",
      "0         50       3         6      1           1  Alabama     Autauga    \n",
      "1         50       3         6      1           3  Alabama      Baldwin   \n",
      "2         50       3         6      1           5  Alabama     Barbour    \n",
      "3         50       3         6      1           7  Alabama        Bibb    \n",
      "4         50       3         6      1           9  Alabama      Blount    \n",
      "...      ...     ...       ...    ...         ...      ...          ...   \n",
      "3138      50       4         8     56          37  Wyoming  Sweetwater    \n",
      "3139      50       4         8     56          39  Wyoming       Teton    \n",
      "3140      50       4         8     56          41  Wyoming       Uinta    \n",
      "3141      50       4         8     56          43  Wyoming    Washakie    \n",
      "3142      50       4         8     56          45  Wyoming      Weston    \n",
      "\n",
      "      CENSUS2010POP  \n",
      "0             54571  \n",
      "1            182265  \n",
      "2             27457  \n",
      "3             22915  \n",
      "4             57322  \n",
      "...             ...  \n",
      "3138          43806  \n",
      "3139          21294  \n",
      "3140          21118  \n",
      "3141           8533  \n",
      "3142           7208  \n",
      "\n",
      "[3143 rows x 8 columns]\n",
      "CTYNAME\n",
      "states_counties.csv\n",
      "Spaces removed. Changes written to file states_counties_corrected.csv.\n"
     ]
    }
   ],
   "source": [
    "if __name__ == \"__main__\":\n",
    "    main()"
   ]
  },
  {
   "cell_type": "code",
   "execution_count": null,
   "metadata": {},
   "outputs": [],
   "source": []
  }
 ],
 "metadata": {
  "kernelspec": {
   "display_name": "Python 3",
   "language": "python",
   "name": "python3"
  },
  "language_info": {
   "codemirror_mode": {
    "name": "ipython",
    "version": 3
   },
   "file_extension": ".py",
   "mimetype": "text/x-python",
   "name": "python",
   "nbconvert_exporter": "python",
   "pygments_lexer": "ipython3",
   "version": "3.7.6"
  }
 },
 "nbformat": 4,
 "nbformat_minor": 4
}
